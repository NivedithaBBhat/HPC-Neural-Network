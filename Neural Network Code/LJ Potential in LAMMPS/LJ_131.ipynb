{
  "nbformat": 4,
  "nbformat_minor": 0,
  "metadata": {
    "colab": {
      "name": "LJ.ipynb",
      "provenance": []
    },
    "kernelspec": {
      "name": "python3",
      "display_name": "Python 3"
    }
  },
  "cells": [
    {
      "cell_type": "code",
      "metadata": {
        "id": "bInVgjbs6SNY",
        "colab_type": "code",
        "outputId": "659e1937-51a8-4103-b2e7-9ed12e58db23",
        "colab": {
          "base_uri": "https://localhost:8080/",
          "height": 51
        }
      },
      "source": [
        "import pandas as pd\n",
        "import matplotlib.pyplot as plt\n",
        "import tensorflow as tf\n",
        "import numpy as np\n",
        "import time\n",
        "from tensorflow import keras\n",
        "from keras import optimizers\n",
        "from keras import losses\n",
        "from sklearn.model_selection import train_test_split\n",
        "from tensorflow.keras.models import Sequential\n",
        "from tensorflow.keras.layers import Dense, Dropout\n",
        "from tensorflow.keras.callbacks import EarlyStopping, LambdaCallback\n",
        "from sklearn.preprocessing import StandardScaler\n",
        "\n",
        "%matplotlib inline\n",
        "\n",
        "print('Libraries imported.')"
      ],
      "execution_count": 0,
      "outputs": [
        {
          "output_type": "stream",
          "text": [
            "Using TensorFlow backend.\n"
          ],
          "name": "stderr"
        },
        {
          "output_type": "stream",
          "text": [
            "Libraries imported.\n"
          ],
          "name": "stdout"
        }
      ]
    },
    {
      "cell_type": "code",
      "metadata": {
        "id": "EYNRzAHW7bR7",
        "colab_type": "code",
        "colab": {}
      },
      "source": [
        "%matplotlib inline\n",
        "\n",
        "\n",
        "import matplotlib.pyplot as plt\n",
        "\n",
        "column_names = ['Location',  'force']\n",
        "\n",
        "def plot_loss(history):\n",
        "    h = history.history\n",
        "    x_lim = len(h['loss'])\n",
        "    plt.figure(figsize=(8, 8))\n",
        "    plt.plot(range(x_lim), h['loss'], label = 'Training Loss')\n",
        "    plt.xlabel('Epochs')\n",
        "    plt.ylabel('Loss')\n",
        "    plt.legend()\n",
        "    plt.show()\n",
        "    return\n",
        "\n",
        "def plot_predictions(preds, y_test):\n",
        "    plt.figure(figsize=(8, 8))\n",
        "    plt.plot(preds, y_test, 'ro')\n",
        "    plt.xlabel('Preds')\n",
        "    plt.ylabel('Labels')\n",
        "    plt.xlim([-0.5, 0.5])\n",
        "    plt.ylim([-0.5, 0.5])\n",
        "    plt.plot([-0.5, 0.5], [-0.5, 0.5], 'b--')\n",
        "    plt.show()\n",
        "    return\n",
        "\n",
        "def compare_predictions(preds1, preds2, y_test):\n",
        "    plt.figure(figsize=(8, 8))\n",
        "    plt.plot(preds1, y_test, 'ro', label='Untrained Model')\n",
        "    plt.plot(preds2, y_test, 'go', label='Trained Model')\n",
        "    plt.xlabel('Preds')\n",
        "    plt.ylabel('Labels')\n",
        "    \n",
        "    y_min = min(min(y_test), min(preds1), min(preds2))\n",
        "    y_max = max(max(y_test), max(preds1), max(preds2))\n",
        "    \n",
        "    plt.xlim([y_min, y_max])\n",
        "    plt.ylim([y_min, y_max])\n",
        "    plt.plot([y_min, y_max], [y_min, y_max], 'b--')\n",
        "    plt.legend()\n",
        "    plt.show()\n",
        "    return"
      ],
      "execution_count": 0,
      "outputs": []
    },
    {
      "cell_type": "code",
      "metadata": {
        "id": "dzUICuG77u7G",
        "colab_type": "code",
        "outputId": "eb97eacb-a86a-4f1b-9909-a694e8d5bc93",
        "colab": {
          "base_uri": "https://localhost:8080/",
          "height": 204
        }
      },
      "source": [
        "df = pd.read_csv('ljdataset.csv', names = column_names) \n",
        "df.head()"
      ],
      "execution_count": 0,
      "outputs": [
        {
          "output_type": "execute_result",
          "data": {
            "text/html": [
              "<div>\n",
              "<style scoped>\n",
              "    .dataframe tbody tr th:only-of-type {\n",
              "        vertical-align: middle;\n",
              "    }\n",
              "\n",
              "    .dataframe tbody tr th {\n",
              "        vertical-align: top;\n",
              "    }\n",
              "\n",
              "    .dataframe thead th {\n",
              "        text-align: right;\n",
              "    }\n",
              "</style>\n",
              "<table border=\"1\" class=\"dataframe\">\n",
              "  <thead>\n",
              "    <tr style=\"text-align: right;\">\n",
              "      <th></th>\n",
              "      <th>Location</th>\n",
              "      <th>force</th>\n",
              "    </tr>\n",
              "  </thead>\n",
              "  <tbody>\n",
              "    <tr>\n",
              "      <th>0</th>\n",
              "      <td>24.707119</td>\n",
              "      <td>1.556623e+04</td>\n",
              "    </tr>\n",
              "    <tr>\n",
              "      <th>1</th>\n",
              "      <td>8.247228</td>\n",
              "      <td>3.208378e+06</td>\n",
              "    </tr>\n",
              "    <tr>\n",
              "      <th>2</th>\n",
              "      <td>34.093722</td>\n",
              "      <td>2.300951e+03</td>\n",
              "    </tr>\n",
              "    <tr>\n",
              "      <th>3</th>\n",
              "      <td>0.279321</td>\n",
              "      <td>3.109789e+03</td>\n",
              "    </tr>\n",
              "    <tr>\n",
              "      <th>4</th>\n",
              "      <td>41.925583</td>\n",
              "      <td>2.503398e+04</td>\n",
              "    </tr>\n",
              "  </tbody>\n",
              "</table>\n",
              "</div>"
            ],
            "text/plain": [
              "    Location         force\n",
              "0  24.707119  1.556623e+04\n",
              "1   8.247228  3.208378e+06\n",
              "2  34.093722  2.300951e+03\n",
              "3   0.279321  3.109789e+03\n",
              "4  41.925583  2.503398e+04"
            ]
          },
          "metadata": {
            "tags": []
          },
          "execution_count": 4
        }
      ]
    },
    {
      "cell_type": "code",
      "metadata": {
        "id": "v6WTehPW8BLI",
        "colab_type": "code",
        "outputId": "8407061b-34fe-48e6-9947-0d59b0fe1567",
        "colab": {
          "base_uri": "https://localhost:8080/",
          "height": 119
        }
      },
      "source": [
        "df.isna().sum()\n",
        "\n",
        "df = df.iloc[1:]\n",
        "df_norm = (df - df.mean()) / df.std()\n",
        "df_norm.head()\n",
        "\n",
        "y_mean = df['force'].mean()\n",
        "y_std = df['force'].std()\n",
        "\n",
        "def convert_label_value(pred):\n",
        "    return int(pred * y_std + y_mean)\n",
        "\n",
        "#print(convert_label_value(0.350088))\n",
        "\n",
        "X = df_norm.iloc[:,:1]\n",
        "X.head()\n",
        "\n",
        "Y = df_norm.iloc[:, -1]\n",
        "Y.head()"
      ],
      "execution_count": 0,
      "outputs": [
        {
          "output_type": "execute_result",
          "data": {
            "text/plain": [
              "1   -0.020004\n",
              "2   -0.020004\n",
              "3   -0.020004\n",
              "4   -0.020004\n",
              "5   -0.020004\n",
              "Name: force, dtype: float64"
            ]
          },
          "metadata": {
            "tags": []
          },
          "execution_count": 5
        }
      ]
    },
    {
      "cell_type": "code",
      "metadata": {
        "id": "EawkUuDl8ntN",
        "colab_type": "code",
        "colab": {}
      },
      "source": [
        "X_arr = X.values\n",
        "Y_arr = Y.values\n",
        "\n",
        "print('X_arr shape: ', X_arr.shape)\n",
        "print('Y_arr shape: ', Y_arr.shape)\n",
        "\n",
        "X_train_full, X_test, y_train_full, y_test = train_test_split(X_arr, Y_arr, test_size = 0.029126, shuffle = True, random_state=0)\n",
        "\n",
        "print('X_train shape: ', X_train_full.shape)\n",
        "print('y_train shape: ', y_train_full.shape)\n",
        "print('X_test shape: ', X_test.shape)\n",
        "print('y_test shape: ', y_test.shape)\n",
        "\n",
        "X_train,X_valid,y_train,y_valid=train_test_split(X_train_full,y_train_full,random_state=0)\n",
        "print('X_train shape: ', X_train.shape)\n",
        "print('y_train shape: ', y_train.shape)\n",
        "print('X_valid shape: ', X_valid.shape)\n",
        "print('y_valid shape: ', y_valid.shape)\n",
        "\n",
        "np.random.seed(42)\n",
        "tf.random.set_seed(42)\n"
      ],
      "execution_count": 0,
      "outputs": []
    },
    {
      "cell_type": "code",
      "metadata": {
        "id": "q6GIpl4A9SEs",
        "colab_type": "code",
        "outputId": "16fab6e7-9204-42bc-da62-68098c359b57",
        "colab": {
          "base_uri": "https://localhost:8080/",
          "height": 221
        }
      },
      "source": [
        "def get_model():\n",
        "    \n",
        "    model = Sequential([\n",
        "        Dense(3, input_shape = (1,), activation = 'relu'),\n",
        "        Dense(1)\n",
        "    ])\n",
        "\n",
        "    opt = keras.optimizers.SGD(learning_rate=0.005)\n",
        "    model.compile(\n",
        "        loss=losses.mean_squared_error,\n",
        "        optimizer=opt,\n",
        "        metrics=[losses.mean_absolute_error]\n",
        "    )\n",
        "    \n",
        "    return model\n",
        "\n",
        "model = get_model()\n",
        "model.summary()"
      ],
      "execution_count": 15,
      "outputs": [
        {
          "output_type": "stream",
          "text": [
            "Model: \"sequential_4\"\n",
            "_________________________________________________________________\n",
            "Layer (type)                 Output Shape              Param #   \n",
            "=================================================================\n",
            "dense_8 (Dense)              (None, 3)                 6         \n",
            "_________________________________________________________________\n",
            "dense_9 (Dense)              (None, 1)                 4         \n",
            "=================================================================\n",
            "Total params: 10\n",
            "Trainable params: 10\n",
            "Non-trainable params: 0\n",
            "_________________________________________________________________\n"
          ],
          "name": "stdout"
        }
      ]
    },
    {
      "cell_type": "code",
      "metadata": {
        "id": "o-Ljd8eh-_A1",
        "colab_type": "code",
        "outputId": "011ea5f0-49ed-484e-c1b5-e2db463cdb86",
        "colab": {
          "base_uri": "https://localhost:8080/",
          "height": 1000
        }
      },
      "source": [
        "early_stopping = EarlyStopping(monitor='loss', patience = 1000,restore_best_weights=True)\n",
        "checkpoint_cb=keras.callbacks.ModelCheckpoint(\"Best_model.h5\",save_best_only=True)\n",
        "model = get_model()\n",
        "\n",
        "preds_on_untrained = model.predict(X_test)\n",
        "start_time=time.time()\n",
        "history = model.fit(\n",
        "     X_train, y_train,validation_data=(X_valid,y_valid),\n",
        "    epochs = 5000,batch_size=100,\n",
        "    callbacks = [early_stopping,checkpoint_cb]\n",
        ")\n",
        "end_time=time.time()\n",
        "print(\"Total time taken to train:\",end_time-start_time)"
      ],
      "execution_count": 17,
      "outputs": [
        {
          "output_type": "stream",
          "text": [
            "\b\b\b\b\b\b\b\b\b\b\b\b\b\b\b\b\b\b\b\b\b\b\b\b\b\b\b\b\b\b\b\b\b\b\b\b\b\b\b\b\b\b\b\b\b\b\b\b\b\b\b\b\b\b\b\b\b\b\b\b\b\b\b\b\b\b\b\b\b\b\b\b\b\b\b\b\b\b\b\b\b\b\b\b\b\b\b\b\b\b\b\b\b\r37/37 [==============================] - 0s 3ms/step - loss: 1.3712 - mean_absolute_error: 0.0721 - val_loss: 0.0029 - val_mean_absolute_error: 0.0449\n",
            "Epoch 1876/5000\n",
            "37/37 [==============================] - 0s 2ms/step - loss: 1.3712 - mean_absolute_error: 0.0729 - val_loss: 0.0029 - val_mean_absolute_error: 0.0449\n",
            "Epoch 1877/5000\n",
            "37/37 [==============================] - 0s 3ms/step - loss: 1.3712 - mean_absolute_error: 0.0728 - val_loss: 0.0028 - val_mean_absolute_error: 0.0444\n",
            "Epoch 1878/5000\n",
            "37/37 [==============================] - 0s 3ms/step - loss: 1.3712 - mean_absolute_error: 0.0732 - val_loss: 0.0028 - val_mean_absolute_error: 0.0443\n",
            "Epoch 1879/5000\n",
            "37/37 [==============================] - 0s 3ms/step - loss: 1.3712 - mean_absolute_error: 0.0721 - val_loss: 0.0029 - val_mean_absolute_error: 0.0447\n",
            "Epoch 1880/5000\n",
            "37/37 [==============================] - 0s 2ms/step - loss: 1.3712 - mean_absolute_error: 0.0728 - val_loss: 0.0028 - val_mean_absolute_error: 0.0444\n",
            "Epoch 1881/5000\n",
            "37/37 [==============================] - 0s 2ms/step - loss: 1.3712 - mean_absolute_error: 0.0726 - val_loss: 0.0028 - val_mean_absolute_error: 0.0445\n",
            "Epoch 1882/5000\n",
            "37/37 [==============================] - 0s 3ms/step - loss: 1.3712 - mean_absolute_error: 0.0733 - val_loss: 0.0027 - val_mean_absolute_error: 0.0440\n",
            "Epoch 1883/5000\n",
            "37/37 [==============================] - 0s 3ms/step - loss: 1.3713 - mean_absolute_error: 0.0721 - val_loss: 0.0033 - val_mean_absolute_error: 0.0472\n",
            "Epoch 1884/5000\n",
            "37/37 [==============================] - 0s 3ms/step - loss: 1.3713 - mean_absolute_error: 0.0748 - val_loss: 0.0031 - val_mean_absolute_error: 0.0463\n",
            "Epoch 1885/5000\n",
            "37/37 [==============================] - 0s 2ms/step - loss: 1.3712 - mean_absolute_error: 0.0731 - val_loss: 0.0031 - val_mean_absolute_error: 0.0462\n",
            "Epoch 1886/5000\n",
            "37/37 [==============================] - 0s 2ms/step - loss: 1.3712 - mean_absolute_error: 0.0746 - val_loss: 0.0029 - val_mean_absolute_error: 0.0452\n",
            "Epoch 1887/5000\n",
            "37/37 [==============================] - 0s 3ms/step - loss: 1.3713 - mean_absolute_error: 0.0733 - val_loss: 0.0029 - val_mean_absolute_error: 0.0452\n",
            "Epoch 1888/5000\n",
            "37/37 [==============================] - 0s 3ms/step - loss: 1.3712 - mean_absolute_error: 0.0735 - val_loss: 0.0029 - val_mean_absolute_error: 0.0450\n",
            "Epoch 1889/5000\n",
            "37/37 [==============================] - 0s 3ms/step - loss: 1.3712 - mean_absolute_error: 0.0729 - val_loss: 0.0030 - val_mean_absolute_error: 0.0453\n",
            "Epoch 1890/5000\n",
            "37/37 [==============================] - 0s 3ms/step - loss: 1.3712 - mean_absolute_error: 0.0739 - val_loss: 0.0028 - val_mean_absolute_error: 0.0445\n",
            "Epoch 1891/5000\n",
            "37/37 [==============================] - 0s 3ms/step - loss: 1.3712 - mean_absolute_error: 0.0728 - val_loss: 0.0028 - val_mean_absolute_error: 0.0446\n",
            "Epoch 1892/5000\n",
            "37/37 [==============================] - 0s 3ms/step - loss: 1.3712 - mean_absolute_error: 0.0737 - val_loss: 0.0027 - val_mean_absolute_error: 0.0441\n",
            "Epoch 1893/5000\n",
            "37/37 [==============================] - 0s 2ms/step - loss: 1.3713 - mean_absolute_error: 0.0730 - val_loss: 0.0028 - val_mean_absolute_error: 0.0442\n",
            "Epoch 1894/5000\n",
            "37/37 [==============================] - 0s 2ms/step - loss: 1.3712 - mean_absolute_error: 0.0732 - val_loss: 0.0028 - val_mean_absolute_error: 0.0442\n",
            "Epoch 1895/5000\n",
            "37/37 [==============================] - 0s 3ms/step - loss: 1.3712 - mean_absolute_error: 0.0722 - val_loss: 0.0028 - val_mean_absolute_error: 0.0443\n",
            "Epoch 1896/5000\n",
            "37/37 [==============================] - 0s 3ms/step - loss: 1.3712 - mean_absolute_error: 0.0718 - val_loss: 0.0029 - val_mean_absolute_error: 0.0448\n",
            "Epoch 1897/5000\n",
            "37/37 [==============================] - 0s 2ms/step - loss: 1.3712 - mean_absolute_error: 0.0724 - val_loss: 0.0029 - val_mean_absolute_error: 0.0451\n",
            "Epoch 1898/5000\n",
            "37/37 [==============================] - 0s 3ms/step - loss: 1.3712 - mean_absolute_error: 0.0729 - val_loss: 0.0029 - val_mean_absolute_error: 0.0447\n",
            "Epoch 1899/5000\n",
            "37/37 [==============================] - 0s 3ms/step - loss: 1.3715 - mean_absolute_error: 0.0740 - val_loss: 0.0029 - val_mean_absolute_error: 0.0449\n",
            "Epoch 1900/5000\n",
            "37/37 [==============================] - 0s 3ms/step - loss: 1.3713 - mean_absolute_error: 0.0724 - val_loss: 0.0028 - val_mean_absolute_error: 0.0446\n",
            "Epoch 1901/5000\n",
            "37/37 [==============================] - 0s 3ms/step - loss: 1.3712 - mean_absolute_error: 0.0729 - val_loss: 0.0028 - val_mean_absolute_error: 0.0442\n",
            "Epoch 1902/5000\n",
            "37/37 [==============================] - 0s 3ms/step - loss: 1.3712 - mean_absolute_error: 0.0723 - val_loss: 0.0028 - val_mean_absolute_error: 0.0446\n",
            "Epoch 1903/5000\n",
            "37/37 [==============================] - 0s 2ms/step - loss: 1.3714 - mean_absolute_error: 0.0720 - val_loss: 0.0030 - val_mean_absolute_error: 0.0458\n",
            "Epoch 1904/5000\n",
            "37/37 [==============================] - 0s 2ms/step - loss: 1.3713 - mean_absolute_error: 0.0724 - val_loss: 0.0029 - val_mean_absolute_error: 0.0452\n",
            "Epoch 1905/5000\n",
            "37/37 [==============================] - 0s 3ms/step - loss: 1.3712 - mean_absolute_error: 0.0727 - val_loss: 0.0029 - val_mean_absolute_error: 0.0447\n",
            "Epoch 1906/5000\n",
            "37/37 [==============================] - 0s 3ms/step - loss: 1.3712 - mean_absolute_error: 0.0720 - val_loss: 0.0029 - val_mean_absolute_error: 0.0448\n",
            "Epoch 1907/5000\n",
            "37/37 [==============================] - 0s 2ms/step - loss: 1.3712 - mean_absolute_error: 0.0735 - val_loss: 0.0028 - val_mean_absolute_error: 0.0446\n",
            "Epoch 1908/5000\n",
            "37/37 [==============================] - 0s 2ms/step - loss: 1.3712 - mean_absolute_error: 0.0725 - val_loss: 0.0029 - val_mean_absolute_error: 0.0447\n",
            "Epoch 1909/5000\n",
            "37/37 [==============================] - 0s 3ms/step - loss: 1.3712 - mean_absolute_error: 0.0718 - val_loss: 0.0029 - val_mean_absolute_error: 0.0448\n",
            "Epoch 1910/5000\n",
            "37/37 [==============================] - 0s 3ms/step - loss: 1.3712 - mean_absolute_error: 0.0718 - val_loss: 0.0029 - val_mean_absolute_error: 0.0452\n",
            "Epoch 1911/5000\n",
            "37/37 [==============================] - 0s 3ms/step - loss: 1.3712 - mean_absolute_error: 0.0721 - val_loss: 0.0038 - val_mean_absolute_error: 0.0501\n",
            "Epoch 1912/5000\n",
            "37/37 [==============================] - 0s 3ms/step - loss: 1.3715 - mean_absolute_error: 0.0776 - val_loss: 0.0033 - val_mean_absolute_error: 0.0471\n",
            "Epoch 1913/5000\n",
            "37/37 [==============================] - 0s 3ms/step - loss: 1.3713 - mean_absolute_error: 0.0739 - val_loss: 0.0031 - val_mean_absolute_error: 0.0461\n",
            "Epoch 1914/5000\n",
            "37/37 [==============================] - 0s 3ms/step - loss: 1.3712 - mean_absolute_error: 0.0747 - val_loss: 0.0029 - val_mean_absolute_error: 0.0450\n",
            "Epoch 1915/5000\n",
            "37/37 [==============================] - 0s 3ms/step - loss: 1.3712 - mean_absolute_error: 0.0742 - val_loss: 0.0028 - val_mean_absolute_error: 0.0447\n",
            "Epoch 1916/5000\n",
            "37/37 [==============================] - 0s 3ms/step - loss: 1.3712 - mean_absolute_error: 0.0718 - val_loss: 0.0030 - val_mean_absolute_error: 0.0453\n",
            "Epoch 1917/5000\n",
            "37/37 [==============================] - 0s 3ms/step - loss: 1.3712 - mean_absolute_error: 0.0724 - val_loss: 0.0029 - val_mean_absolute_error: 0.0453\n",
            "Epoch 1918/5000\n",
            "37/37 [==============================] - 0s 3ms/step - loss: 1.3712 - mean_absolute_error: 0.0724 - val_loss: 0.0030 - val_mean_absolute_error: 0.0456\n",
            "Epoch 1919/5000\n",
            "37/37 [==============================] - 0s 3ms/step - loss: 1.3712 - mean_absolute_error: 0.0731 - val_loss: 0.0030 - val_mean_absolute_error: 0.0455\n",
            "Epoch 1920/5000\n",
            "37/37 [==============================] - 0s 2ms/step - loss: 1.3712 - mean_absolute_error: 0.0723 - val_loss: 0.0030 - val_mean_absolute_error: 0.0455\n",
            "Epoch 1921/5000\n",
            "37/37 [==============================] - 0s 2ms/step - loss: 1.3712 - mean_absolute_error: 0.0744 - val_loss: 0.0029 - val_mean_absolute_error: 0.0448\n",
            "Epoch 1922/5000\n",
            "37/37 [==============================] - 0s 2ms/step - loss: 1.3712 - mean_absolute_error: 0.0721 - val_loss: 0.0030 - val_mean_absolute_error: 0.0453\n",
            "Epoch 1923/5000\n",
            "37/37 [==============================] - 0s 2ms/step - loss: 1.3712 - mean_absolute_error: 0.0722 - val_loss: 0.0030 - val_mean_absolute_error: 0.0453\n",
            "Epoch 1924/5000\n",
            "37/37 [==============================] - 0s 3ms/step - loss: 1.3712 - mean_absolute_error: 0.0736 - val_loss: 0.0029 - val_mean_absolute_error: 0.0450\n",
            "Epoch 1925/5000\n",
            "37/37 [==============================] - 0s 3ms/step - loss: 1.3713 - mean_absolute_error: 0.0738 - val_loss: 0.0028 - val_mean_absolute_error: 0.0446\n",
            "Epoch 1926/5000\n",
            "37/37 [==============================] - 0s 3ms/step - loss: 1.3712 - mean_absolute_error: 0.0727 - val_loss: 0.0029 - val_mean_absolute_error: 0.0447\n",
            "Epoch 1927/5000\n",
            "37/37 [==============================] - 0s 2ms/step - loss: 1.3712 - mean_absolute_error: 0.0725 - val_loss: 0.0029 - val_mean_absolute_error: 0.0450\n",
            "Epoch 1928/5000\n",
            "37/37 [==============================] - 0s 3ms/step - loss: 1.3712 - mean_absolute_error: 0.0717 - val_loss: 0.0029 - val_mean_absolute_error: 0.0452\n",
            "Epoch 1929/5000\n",
            "37/37 [==============================] - 0s 3ms/step - loss: 1.3712 - mean_absolute_error: 0.0732 - val_loss: 0.0029 - val_mean_absolute_error: 0.0451\n",
            "Epoch 1930/5000\n",
            "37/37 [==============================] - 0s 3ms/step - loss: 1.3712 - mean_absolute_error: 0.0726 - val_loss: 0.0029 - val_mean_absolute_error: 0.0448\n",
            "Epoch 1931/5000\n",
            "37/37 [==============================] - 0s 3ms/step - loss: 1.3712 - mean_absolute_error: 0.0738 - val_loss: 0.0028 - val_mean_absolute_error: 0.0445\n",
            "Epoch 1932/5000\n",
            "37/37 [==============================] - 0s 3ms/step - loss: 1.3712 - mean_absolute_error: 0.0719 - val_loss: 0.0029 - val_mean_absolute_error: 0.0451\n",
            "Epoch 1933/5000\n",
            "37/37 [==============================] - 0s 3ms/step - loss: 1.3712 - mean_absolute_error: 0.0729 - val_loss: 0.0029 - val_mean_absolute_error: 0.0447\n",
            "Epoch 1934/5000\n",
            "37/37 [==============================] - 0s 3ms/step - loss: 1.3712 - mean_absolute_error: 0.0731 - val_loss: 0.0029 - val_mean_absolute_error: 0.0448\n",
            "Epoch 1935/5000\n",
            "37/37 [==============================] - 0s 3ms/step - loss: 1.3712 - mean_absolute_error: 0.0732 - val_loss: 0.0028 - val_mean_absolute_error: 0.0442\n",
            "Epoch 1936/5000\n",
            "37/37 [==============================] - 0s 3ms/step - loss: 1.3713 - mean_absolute_error: 0.0722 - val_loss: 0.0028 - val_mean_absolute_error: 0.0446\n",
            "Epoch 1937/5000\n",
            "37/37 [==============================] - 0s 2ms/step - loss: 1.3712 - mean_absolute_error: 0.0719 - val_loss: 0.0029 - val_mean_absolute_error: 0.0451\n",
            "Epoch 1938/5000\n",
            "37/37 [==============================] - 0s 3ms/step - loss: 1.3712 - mean_absolute_error: 0.0732 - val_loss: 0.0028 - val_mean_absolute_error: 0.0446\n",
            "Epoch 1939/5000\n",
            "37/37 [==============================] - 0s 3ms/step - loss: 1.3712 - mean_absolute_error: 0.0734 - val_loss: 0.0028 - val_mean_absolute_error: 0.0444\n",
            "Epoch 1940/5000\n",
            "37/37 [==============================] - 0s 3ms/step - loss: 1.3712 - mean_absolute_error: 0.0719 - val_loss: 0.0036 - val_mean_absolute_error: 0.0492\n",
            "Epoch 1941/5000\n",
            "37/37 [==============================] - 0s 3ms/step - loss: 1.3714 - mean_absolute_error: 0.0748 - val_loss: 0.0033 - val_mean_absolute_error: 0.0473\n",
            "Epoch 1942/5000\n",
            "37/37 [==============================] - 0s 3ms/step - loss: 1.3713 - mean_absolute_error: 0.0756 - val_loss: 0.0030 - val_mean_absolute_error: 0.0457\n",
            "Epoch 1943/5000\n",
            "37/37 [==============================] - 0s 3ms/step - loss: 1.3712 - mean_absolute_error: 0.0743 - val_loss: 0.0029 - val_mean_absolute_error: 0.0449\n",
            "Epoch 1944/5000\n",
            "37/37 [==============================] - 0s 3ms/step - loss: 1.3712 - mean_absolute_error: 0.0736 - val_loss: 0.0029 - val_mean_absolute_error: 0.0447\n",
            "Epoch 1945/5000\n",
            "37/37 [==============================] - 0s 3ms/step - loss: 1.3712 - mean_absolute_error: 0.0719 - val_loss: 0.0030 - val_mean_absolute_error: 0.0453\n",
            "Epoch 1946/5000\n",
            "37/37 [==============================] - 0s 3ms/step - loss: 1.3712 - mean_absolute_error: 0.0733 - val_loss: 0.0029 - val_mean_absolute_error: 0.0450\n",
            "Epoch 1947/5000\n",
            "37/37 [==============================] - 0s 3ms/step - loss: 1.3712 - mean_absolute_error: 0.0730 - val_loss: 0.0029 - val_mean_absolute_error: 0.0451\n",
            "Epoch 1948/5000\n",
            "37/37 [==============================] - 0s 3ms/step - loss: 1.3712 - mean_absolute_error: 0.0734 - val_loss: 0.0029 - val_mean_absolute_error: 0.0450\n",
            "Epoch 1949/5000\n",
            "37/37 [==============================] - 0s 2ms/step - loss: 1.3712 - mean_absolute_error: 0.0726 - val_loss: 0.0029 - val_mean_absolute_error: 0.0449\n",
            "Epoch 1950/5000\n",
            "37/37 [==============================] - 0s 2ms/step - loss: 1.3715 - mean_absolute_error: 0.0741 - val_loss: 0.0029 - val_mean_absolute_error: 0.0452\n",
            "Epoch 1951/5000\n",
            "37/37 [==============================] - 0s 2ms/step - loss: 1.3712 - mean_absolute_error: 0.0730 - val_loss: 0.0029 - val_mean_absolute_error: 0.0448\n",
            "Epoch 1952/5000\n",
            "37/37 [==============================] - 0s 3ms/step - loss: 1.3712 - mean_absolute_error: 0.0722 - val_loss: 0.0028 - val_mean_absolute_error: 0.0447\n",
            "Epoch 1953/5000\n",
            "37/37 [==============================] - 0s 3ms/step - loss: 1.3712 - mean_absolute_error: 0.0732 - val_loss: 0.0028 - val_mean_absolute_error: 0.0446\n",
            "Epoch 1954/5000\n",
            "37/37 [==============================] - 0s 2ms/step - loss: 1.3712 - mean_absolute_error: 0.0726 - val_loss: 0.0029 - val_mean_absolute_error: 0.0450\n",
            "Epoch 1955/5000\n",
            "37/37 [==============================] - 0s 3ms/step - loss: 1.3712 - mean_absolute_error: 0.0731 - val_loss: 0.0028 - val_mean_absolute_error: 0.0446\n",
            "Epoch 1956/5000\n",
            "37/37 [==============================] - 0s 3ms/step - loss: 1.3712 - mean_absolute_error: 0.0730 - val_loss: 0.0028 - val_mean_absolute_error: 0.0446\n",
            "Epoch 1957/5000\n",
            "37/37 [==============================] - 0s 3ms/step - loss: 1.3712 - mean_absolute_error: 0.0720 - val_loss: 0.0029 - val_mean_absolute_error: 0.0452\n",
            "Epoch 1958/5000\n",
            "37/37 [==============================] - 0s 3ms/step - loss: 1.3712 - mean_absolute_error: 0.0734 - val_loss: 0.0028 - val_mean_absolute_error: 0.0446\n",
            "Epoch 1959/5000\n",
            "37/37 [==============================] - 0s 3ms/step - loss: 1.3712 - mean_absolute_error: 0.0724 - val_loss: 0.0029 - val_mean_absolute_error: 0.0450\n",
            "Epoch 1960/5000\n",
            "37/37 [==============================] - 0s 3ms/step - loss: 1.3712 - mean_absolute_error: 0.0725 - val_loss: 0.0029 - val_mean_absolute_error: 0.0448\n",
            "Epoch 1961/5000\n",
            "37/37 [==============================] - 0s 3ms/step - loss: 1.3712 - mean_absolute_error: 0.0720 - val_loss: 0.0029 - val_mean_absolute_error: 0.0452\n",
            "Epoch 1962/5000\n",
            "37/37 [==============================] - 0s 3ms/step - loss: 1.3712 - mean_absolute_error: 0.0737 - val_loss: 0.0028 - val_mean_absolute_error: 0.0446\n",
            "Epoch 1963/5000\n",
            "37/37 [==============================] - 0s 3ms/step - loss: 1.3713 - mean_absolute_error: 0.0722 - val_loss: 0.0029 - val_mean_absolute_error: 0.0450\n",
            "Epoch 1964/5000\n",
            "37/37 [==============================] - 0s 2ms/step - loss: 1.3712 - mean_absolute_error: 0.0729 - val_loss: 0.0029 - val_mean_absolute_error: 0.0451\n",
            "Epoch 1965/5000\n",
            "37/37 [==============================] - 0s 3ms/step - loss: 1.3712 - mean_absolute_error: 0.0740 - val_loss: 0.0028 - val_mean_absolute_error: 0.0443\n",
            "Epoch 1966/5000\n",
            "37/37 [==============================] - 0s 3ms/step - loss: 1.3712 - mean_absolute_error: 0.0738 - val_loss: 0.0028 - val_mean_absolute_error: 0.0441\n",
            "Epoch 1967/5000\n",
            "37/37 [==============================] - 0s 2ms/step - loss: 1.3712 - mean_absolute_error: 0.0722 - val_loss: 0.0028 - val_mean_absolute_error: 0.0444\n",
            "Epoch 1968/5000\n",
            "37/37 [==============================] - 0s 3ms/step - loss: 1.3712 - mean_absolute_error: 0.0724 - val_loss: 0.0029 - val_mean_absolute_error: 0.0448\n",
            "Epoch 1969/5000\n",
            "37/37 [==============================] - 0s 3ms/step - loss: 1.3712 - mean_absolute_error: 0.0714 - val_loss: 0.0029 - val_mean_absolute_error: 0.0449\n",
            "Epoch 1970/5000\n",
            "37/37 [==============================] - 0s 3ms/step - loss: 1.3712 - mean_absolute_error: 0.0729 - val_loss: 0.0029 - val_mean_absolute_error: 0.0449\n",
            "Epoch 1971/5000\n",
            "37/37 [==============================] - 0s 3ms/step - loss: 1.3712 - mean_absolute_error: 0.0734 - val_loss: 0.0028 - val_mean_absolute_error: 0.0445\n",
            "Epoch 1972/5000\n",
            "37/37 [==============================] - 0s 2ms/step - loss: 1.3712 - mean_absolute_error: 0.0716 - val_loss: 0.0029 - val_mean_absolute_error: 0.0450\n",
            "Epoch 1973/5000\n",
            "37/37 [==============================] - 0s 3ms/step - loss: 1.3712 - mean_absolute_error: 0.0731 - val_loss: 0.0029 - val_mean_absolute_error: 0.0451\n",
            "Epoch 1974/5000\n",
            "37/37 [==============================] - 0s 3ms/step - loss: 1.3712 - mean_absolute_error: 0.0730 - val_loss: 0.0028 - val_mean_absolute_error: 0.0446\n",
            "Epoch 1975/5000\n",
            "37/37 [==============================] - 0s 3ms/step - loss: 1.3712 - mean_absolute_error: 0.0722 - val_loss: 0.0029 - val_mean_absolute_error: 0.0449\n",
            "Epoch 1976/5000\n",
            "37/37 [==============================] - 0s 2ms/step - loss: 1.3712 - mean_absolute_error: 0.0718 - val_loss: 0.0029 - val_mean_absolute_error: 0.0450\n",
            "Epoch 1977/5000\n",
            "37/37 [==============================] - 0s 3ms/step - loss: 1.3712 - mean_absolute_error: 0.0729 - val_loss: 0.0029 - val_mean_absolute_error: 0.0450\n",
            "Epoch 1978/5000\n",
            "37/37 [==============================] - 0s 3ms/step - loss: 1.3712 - mean_absolute_error: 0.0727 - val_loss: 0.0029 - val_mean_absolute_error: 0.0451\n",
            "Epoch 1979/5000\n",
            "37/37 [==============================] - 0s 3ms/step - loss: 1.3712 - mean_absolute_error: 0.0733 - val_loss: 0.0028 - val_mean_absolute_error: 0.0445\n",
            "Epoch 1980/5000\n",
            "37/37 [==============================] - 0s 3ms/step - loss: 1.3712 - mean_absolute_error: 0.0720 - val_loss: 0.0029 - val_mean_absolute_error: 0.0450\n",
            "Epoch 1981/5000\n",
            "37/37 [==============================] - 0s 3ms/step - loss: 1.3712 - mean_absolute_error: 0.0725 - val_loss: 0.0030 - val_mean_absolute_error: 0.0453\n",
            "Epoch 1982/5000\n",
            "37/37 [==============================] - 0s 3ms/step - loss: 1.3712 - mean_absolute_error: 0.0735 - val_loss: 0.0028 - val_mean_absolute_error: 0.0444\n",
            "Epoch 1983/5000\n",
            "37/37 [==============================] - 0s 2ms/step - loss: 1.3712 - mean_absolute_error: 0.0722 - val_loss: 0.0029 - val_mean_absolute_error: 0.0448\n",
            "Epoch 1984/5000\n",
            "37/37 [==============================] - 0s 2ms/step - loss: 1.3712 - mean_absolute_error: 0.0730 - val_loss: 0.0028 - val_mean_absolute_error: 0.0444\n",
            "Epoch 1985/5000\n",
            "37/37 [==============================] - 0s 2ms/step - loss: 1.3712 - mean_absolute_error: 0.0714 - val_loss: 0.0029 - val_mean_absolute_error: 0.0451\n",
            "Epoch 1986/5000\n",
            "37/37 [==============================] - 0s 2ms/step - loss: 1.3712 - mean_absolute_error: 0.0715 - val_loss: 0.0030 - val_mean_absolute_error: 0.0457\n",
            "Epoch 1987/5000\n",
            "37/37 [==============================] - 0s 3ms/step - loss: 1.3712 - mean_absolute_error: 0.0725 - val_loss: 0.0030 - val_mean_absolute_error: 0.0453\n",
            "Epoch 1988/5000\n",
            "37/37 [==============================] - 0s 3ms/step - loss: 1.3712 - mean_absolute_error: 0.0735 - val_loss: 0.0029 - val_mean_absolute_error: 0.0451\n",
            "Epoch 1989/5000\n",
            "37/37 [==============================] - 0s 3ms/step - loss: 1.3712 - mean_absolute_error: 0.0729 - val_loss: 0.0028 - val_mean_absolute_error: 0.0446\n",
            "Epoch 1990/5000\n",
            "37/37 [==============================] - 0s 3ms/step - loss: 1.3712 - mean_absolute_error: 0.0735 - val_loss: 0.0028 - val_mean_absolute_error: 0.0443\n",
            "Epoch 1991/5000\n",
            "37/37 [==============================] - 0s 2ms/step - loss: 1.3712 - mean_absolute_error: 0.0728 - val_loss: 0.0028 - val_mean_absolute_error: 0.0445\n",
            "Epoch 1992/5000\n",
            "37/37 [==============================] - 0s 2ms/step - loss: 1.3712 - mean_absolute_error: 0.0725 - val_loss: 0.0028 - val_mean_absolute_error: 0.0446\n",
            "Epoch 1993/5000\n",
            "37/37 [==============================] - 0s 3ms/step - loss: 1.3712 - mean_absolute_error: 0.0716 - val_loss: 0.0029 - val_mean_absolute_error: 0.0447\n",
            "Epoch 1994/5000\n",
            "37/37 [==============================] - 0s 2ms/step - loss: 1.3712 - mean_absolute_error: 0.0715 - val_loss: 0.0035 - val_mean_absolute_error: 0.0482\n",
            "Epoch 1995/5000\n",
            "37/37 [==============================] - 0s 2ms/step - loss: 1.3712 - mean_absolute_error: 0.0749 - val_loss: 0.0032 - val_mean_absolute_error: 0.0466\n",
            "Epoch 1996/5000\n",
            "37/37 [==============================] - 0s 2ms/step - loss: 1.3712 - mean_absolute_error: 0.0729 - val_loss: 0.0032 - val_mean_absolute_error: 0.0468\n",
            "Epoch 1997/5000\n",
            "37/37 [==============================] - 0s 3ms/step - loss: 1.3712 - mean_absolute_error: 0.0742 - val_loss: 0.0031 - val_mean_absolute_error: 0.0463\n",
            "Epoch 1998/5000\n",
            "37/37 [==============================] - 0s 2ms/step - loss: 1.3713 - mean_absolute_error: 0.0745 - val_loss: 0.0030 - val_mean_absolute_error: 0.0454\n",
            "Epoch 1999/5000\n",
            "37/37 [==============================] - 0s 2ms/step - loss: 1.3712 - mean_absolute_error: 0.0742 - val_loss: 0.0029 - val_mean_absolute_error: 0.0449\n",
            "Epoch 2000/5000\n",
            "37/37 [==============================] - 0s 3ms/step - loss: 1.3712 - mean_absolute_error: 0.0732 - val_loss: 0.0029 - val_mean_absolute_error: 0.0450\n",
            "Epoch 2001/5000\n",
            "37/37 [==============================] - 0s 2ms/step - loss: 1.3712 - mean_absolute_error: 0.0728 - val_loss: 0.0029 - val_mean_absolute_error: 0.0450\n",
            "Epoch 2002/5000\n",
            "37/37 [==============================] - 0s 2ms/step - loss: 1.3713 - mean_absolute_error: 0.0714 - val_loss: 0.0042 - val_mean_absolute_error: 0.0523\n",
            "Epoch 2003/5000\n",
            "37/37 [==============================] - 0s 3ms/step - loss: 1.3715 - mean_absolute_error: 0.0785 - val_loss: 0.0037 - val_mean_absolute_error: 0.0497\n",
            "Epoch 2004/5000\n",
            "37/37 [==============================] - 0s 3ms/step - loss: 1.3714 - mean_absolute_error: 0.0770 - val_loss: 0.0034 - val_mean_absolute_error: 0.0479\n",
            "Epoch 2005/5000\n",
            "37/37 [==============================] - 0s 3ms/step - loss: 1.3713 - mean_absolute_error: 0.0751 - val_loss: 0.0033 - val_mean_absolute_error: 0.0471\n",
            "Epoch 2006/5000\n",
            "37/37 [==============================] - 0s 3ms/step - loss: 1.3712 - mean_absolute_error: 0.0746 - val_loss: 0.0032 - val_mean_absolute_error: 0.0468\n",
            "Epoch 2007/5000\n",
            "37/37 [==============================] - 0s 3ms/step - loss: 1.3712 - mean_absolute_error: 0.0737 - val_loss: 0.0032 - val_mean_absolute_error: 0.0467\n",
            "Epoch 2008/5000\n",
            "37/37 [==============================] - 0s 3ms/step - loss: 1.3712 - mean_absolute_error: 0.0743 - val_loss: 0.0030 - val_mean_absolute_error: 0.0458\n",
            "Epoch 2009/5000\n",
            "37/37 [==============================] - 0s 3ms/step - loss: 1.3712 - mean_absolute_error: 0.0742 - val_loss: 0.0030 - val_mean_absolute_error: 0.0456\n",
            "Epoch 2010/5000\n",
            "37/37 [==============================] - 0s 3ms/step - loss: 1.3711 - mean_absolute_error: 0.0743 - val_loss: 0.0028 - val_mean_absolute_error: 0.0448\n",
            "Epoch 2011/5000\n",
            "37/37 [==============================] - 0s 2ms/step - loss: 1.3713 - mean_absolute_error: 0.0726 - val_loss: 0.0029 - val_mean_absolute_error: 0.0453\n",
            "Epoch 2012/5000\n",
            "37/37 [==============================] - 0s 3ms/step - loss: 1.3712 - mean_absolute_error: 0.0742 - val_loss: 0.0029 - val_mean_absolute_error: 0.0452\n",
            "Epoch 2013/5000\n",
            "37/37 [==============================] - 0s 3ms/step - loss: 1.3712 - mean_absolute_error: 0.0734 - val_loss: 0.0028 - val_mean_absolute_error: 0.0449\n",
            "Epoch 2014/5000\n",
            "37/37 [==============================] - 0s 2ms/step - loss: 1.3712 - mean_absolute_error: 0.0737 - val_loss: 0.0028 - val_mean_absolute_error: 0.0448\n",
            "Epoch 2015/5000\n",
            "37/37 [==============================] - 0s 2ms/step - loss: 1.3712 - mean_absolute_error: 0.0717 - val_loss: 0.0030 - val_mean_absolute_error: 0.0456\n",
            "Epoch 2016/5000\n",
            "37/37 [==============================] - 0s 3ms/step - loss: 1.3712 - mean_absolute_error: 0.0736 - val_loss: 0.0030 - val_mean_absolute_error: 0.0455\n",
            "Epoch 2017/5000\n",
            "37/37 [==============================] - 0s 3ms/step - loss: 1.3712 - mean_absolute_error: 0.0740 - val_loss: 0.0029 - val_mean_absolute_error: 0.0449\n",
            "Epoch 2018/5000\n",
            "37/37 [==============================] - 0s 2ms/step - loss: 1.3712 - mean_absolute_error: 0.0728 - val_loss: 0.0029 - val_mean_absolute_error: 0.0452\n",
            "Epoch 2019/5000\n",
            "37/37 [==============================] - 0s 3ms/step - loss: 1.3712 - mean_absolute_error: 0.0733 - val_loss: 0.0029 - val_mean_absolute_error: 0.0449\n",
            "Epoch 2020/5000\n",
            "37/37 [==============================] - 0s 3ms/step - loss: 1.3712 - mean_absolute_error: 0.0727 - val_loss: 0.0029 - val_mean_absolute_error: 0.0452\n",
            "Epoch 2021/5000\n",
            "37/37 [==============================] - 0s 2ms/step - loss: 1.3712 - mean_absolute_error: 0.0731 - val_loss: 0.0029 - val_mean_absolute_error: 0.0453\n",
            "Total time taken to train: 218.05858635902405\n"
          ],
          "name": "stdout"
        }
      ]
    },
    {
      "cell_type": "code",
      "metadata": {
        "id": "CmPkGiR1E8kX",
        "colab_type": "code",
        "colab": {
          "base_uri": "https://localhost:8080/",
          "height": 497
        },
        "outputId": "32688bf9-7eb1-4559-d7f8-554ac8dc2896"
      },
      "source": [
        "plot_loss(history)"
      ],
      "execution_count": 18,
      "outputs": [
        {
          "output_type": "display_data",
          "data": {
            "image/png": "[encoded data removed]",
            "text/plain": [
              "<Figure size 576x576 with 1 Axes>"
            ]
          },
          "metadata": {
            "tags": [],
            "needs_background": "light"
          }
        }
      ]
    },
    {
      "cell_type": "code",
      "metadata": {
        "id": "Hi9VZu7BFEup",
        "colab_type": "code",
        "colab": {
          "base_uri": "https://localhost:8080/",
          "height": 497
        },
        "outputId": "24863c3e-5914-4e5f-8727-8a914fbecfc2"
      },
      "source": [
        "preds_on_trained = model.predict(X_test)\n",
        "\n",
        "compare_predictions(preds_on_untrained, preds_on_trained, y_test)"
      ],
      "execution_count": 19,
      "outputs": [
        {
          "output_type": "display_data",
          "data": {
            "image/png": "[encoded data removed]",
            "text/plain": [
              "<Figure size 576x576 with 1 Axes>"
            ]
          },
          "metadata": {
            "tags": [],
            "needs_background": "light"
          }
        }
      ]
    },
    {
      "cell_type": "code",
      "metadata": {
        "id": "7HE86BT0FeB8",
        "colab_type": "code",
        "colab": {
          "base_uri": "https://localhost:8080/",
          "height": 51
        },
        "outputId": "053a4401-7801-45f5-ae24-7aa361011acc"
      },
      "source": [
        "model=keras.models.load_model(\"Best_model.h5\")\n",
        "import time\n",
        "s=time.time()\n",
        "model.evaluate(X_test,y_test)\n",
        "e=time.time()\n",
        "t=e-s\n",
        "print(\"Running time\",t)"
      ],
      "execution_count": 20,
      "outputs": [
        {
          "output_type": "stream",
          "text": [
            "5/5 [==============================] - 0s 2ms/step - loss: 0.0010 - mean_absolute_error: 0.0268\n",
            "Running time 0.18912029266357422\n"
          ],
          "name": "stdout"
        }
      ]
    },
    {
      "cell_type": "code",
      "metadata": {
        "id": "CGk63XwkFval",
        "colab_type": "code",
        "colab": {}
      },
      "source": [
        "price_on_untrained = [convert_label_value(y) for y in preds_on_untrained]\n",
        "price_on_trained = [convert_label_value(y) for y in preds_on_trained]\n",
        "price_y_test = [convert_label_value(y) for y in y_test]\n"
      ],
      "execution_count": 0,
      "outputs": []
    }
  ]
}